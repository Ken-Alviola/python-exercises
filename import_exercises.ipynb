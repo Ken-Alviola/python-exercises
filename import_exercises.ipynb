{
 "cells": [
  {
   "cell_type": "code",
   "execution_count": 116,
   "metadata": {},
   "outputs": [
    {
     "data": {
      "text/plain": [
       "False"
      ]
     },
     "execution_count": 116,
     "metadata": {},
     "output_type": "execute_result"
    }
   ],
   "source": [
    "#1. Import and test 3 of the functions from your functions exercise file.\n",
    "\n",
    "#Import each function in a different way:\n",
    "\n",
    "#import the module and refer to the function with the . syntax\n",
    "\n",
    "import function_exercises\n",
    "\n",
    "function_exercises.is_two(4)"
   ]
  },
  {
   "cell_type": "code",
   "execution_count": 2,
   "metadata": {},
   "outputs": [
    {
     "data": {
      "text/plain": [
       "'234_haifa_israel'"
      ]
     },
     "execution_count": 2,
     "metadata": {},
     "output_type": "execute_result"
    }
   ],
   "source": [
    "#use from to import the function directly\n",
    "\n",
    "from function_exercises import normalize_name\n",
    "\n",
    "normalize_name('234 #$%#Hai#@%fa Isr^#ael %^##')"
   ]
  },
  {
   "cell_type": "code",
   "execution_count": 3,
   "metadata": {},
   "outputs": [
    {
     "data": {
      "text/plain": [
       "1000000"
      ]
     },
     "execution_count": 3,
     "metadata": {},
     "output_type": "execute_result"
    }
   ],
   "source": [
    "#use from and give the function a different name\n",
    "\n",
    "from function_exercises import handle_commas as hc\n",
    "\n",
    "hc('1,000,000')"
   ]
  },
  {
   "cell_type": "code",
   "execution_count": 11,
   "metadata": {},
   "outputs": [
    {
     "name": "stdout",
     "output_type": "stream",
     "text": [
      "[('a', '1'), ('a', '2'), ('a', '3'), ('b', '1'), ('b', '2'), ('b', '3'), ('c', '1'), ('c', '2'), ('c', '3')]\n"
     ]
    }
   ],
   "source": [
    "#For the following exercises, read about and use the \n",
    "#itertools module from the standard library to help you solve the problem.\n",
    "\n",
    "\n",
    "#1. How many different ways can you combine the letters from \"abc\" with the numbers 1, 2, and 3?\n",
    "\n",
    "\n",
    "from itertools import product\n",
    "\n",
    "arr1 = 'abc'\n",
    "arr2 = '123'\n",
    "\n",
    "def Product(arr1,arr2):\n",
    "    return list(product(arr1,arr2))\n",
    "print(Product(arr1,arr2))\n"
   ]
  },
  {
   "cell_type": "code",
   "execution_count": 5,
   "metadata": {},
   "outputs": [
    {
     "name": "stdout",
     "output_type": "stream",
     "text": [
      "[('a', 'b'), ('a', 'c'), ('a', 'd'), ('b', 'c'), ('b', 'd'), ('c', 'd')]\n"
     ]
    }
   ],
   "source": [
    "#2. How many different ways can you combine two of the letters from \"abcd\"?\n",
    "from itertools import combinations \n",
    "  \n",
    "def rSubset(arr, r): \n",
    "  \n",
    "    # return list of all subsets of length r \n",
    "    # to deal with duplicate subsets use  \n",
    "    # set(list(combinations(arr, r))) \n",
    "    return list(combinations(arr, r)) \n",
    "  \n",
    "# Driver Function \n",
    "if __name__ == \"__main__\": \n",
    "    arr = ['a','b','c','d'] \n",
    "    r = 2\n",
    "    print (rSubset(arr, r)) \n",
    " "
   ]
  },
  {
   "cell_type": "code",
   "execution_count": 86,
   "metadata": {},
   "outputs": [],
   "source": [
    "#Save this file as profiles.json inside of your exercises directory. \n",
    "#Use the load function from the json module to open this file, it will produce a list of dictionaries. \n",
    "#Using this data, write some code that calculates and outputs the following information:\n",
    "\n",
    "import json\n",
    " \n",
    "\n",
    "with open('profiles.json') as f:\n",
    "    data = json.load(f)\n",
    "\n",
    "    \n"
   ]
  },
  {
   "cell_type": "code",
   "execution_count": 85,
   "metadata": {},
   "outputs": [
    {
     "data": {
      "text/plain": [
       "{'_id': '54e23c3ef30f14d0e5afddf3',\n",
       " 'index': 8,\n",
       " 'guid': 'bde2d56f-2488-40d0-a7d2-21019ee8a18b',\n",
       " 'isActive': False,\n",
       " 'balance': '$1,944.15',\n",
       " 'picture': 'http://placehold.it/32x32',\n",
       " 'age': 25,\n",
       " 'eyeColor': 'green',\n",
       " 'name': 'Madeleine Bray',\n",
       " 'gender': 'female',\n",
       " 'company': 'KIDSTOCK',\n",
       " 'email': 'madeleinebray@kidstock.com',\n",
       " 'phone': '+1 (820) 541-2969',\n",
       " 'address': '684 Stratford Road, Rosine, District Of Columbia, 7177',\n",
       " 'about': 'Ullamco ea esse ullamco commodo quis amet ut ad. Sint eiusmod ullamco minim nostrud amet in ex adipisicing velit cillum Lorem enim nostrud. Deserunt esse incididunt eiusmod commodo ullamco id pariatur tempor duis laboris Lorem. Laboris magna Lorem quis laborum ullamco. Dolor minim magna ut occaecat in consequat consequat in commodo pariatur voluptate pariatur dolore. Quis exercitation cillum labore cillum laborum. Dolore est reprehenderit anim reprehenderit consectetur sit quis ea ut veniam.\\r\\n',\n",
       " 'registered': '2014-08-11T08:54:06 +05:00',\n",
       " 'latitude': 45.118798,\n",
       " 'longitude': -7.698707,\n",
       " 'tags': ['id',\n",
       "  'magna',\n",
       "  'excepteur',\n",
       "  'excepteur',\n",
       "  'excepteur',\n",
       "  'duis',\n",
       "  'excepteur'],\n",
       " 'friends': [{'id': 0, 'name': 'Herrera Doyle'},\n",
       "  {'id': 1, 'name': 'Berger Fisher'},\n",
       "  {'id': 2, 'name': 'Chang Coffey'}],\n",
       " 'greeting': 'Hello, Madeleine Bray! You have 2 unread messages.',\n",
       " 'favoriteFruit': 'strawberry'}"
      ]
     },
     "execution_count": 85,
     "metadata": {},
     "output_type": "execute_result"
    }
   ],
   "source": [
    "data[8]"
   ]
  },
  {
   "cell_type": "code",
   "execution_count": 38,
   "metadata": {},
   "outputs": [
    {
     "data": {
      "text/plain": [
       "19"
      ]
     },
     "execution_count": 38,
     "metadata": {},
     "output_type": "execute_result"
    }
   ],
   "source": [
    "#Total number of users\n",
    "#19 users\n",
    "len(data)\n"
   ]
  },
  {
   "cell_type": "code",
   "execution_count": 52,
   "metadata": {},
   "outputs": [
    {
     "name": "stdout",
     "output_type": "stream",
     "text": [
      "['Jacobs Floyd', 'Camacho Cortez', 'Corine French', 'Trudy Cummings', 'Peggy Mayer', 'Diaz Pena', 'Heath Castaneda', 'Leanne Hurst', 'Ewing Larson']\n"
     ]
    },
    {
     "data": {
      "text/plain": [
       "9"
      ]
     },
     "execution_count": 52,
     "metadata": {},
     "output_type": "execute_result"
    }
   ],
   "source": [
    "#Number of active users\n",
    "#9 active\n",
    "active_users = []\n",
    "for user in range(len(data)):    \n",
    "    if data[user]['isActive'] == True:\n",
    "        active_users.append(data[user]['name'])\n",
    "        \n",
    "print(active_users)\n",
    "len(active_users)\n"
   ]
  },
  {
   "cell_type": "code",
   "execution_count": 58,
   "metadata": {},
   "outputs": [
    {
     "name": "stdout",
     "output_type": "stream",
     "text": [
      "['Hebert Estes', 'Allison Wynn', 'Fay Hammond', 'Chasity Marsh', 'Avery Flynn', 'Michael Cash', 'Madeleine Bray', 'Chan Hurley', 'Greer Blankenship', 'Coffey Hayes']\n"
     ]
    },
    {
     "data": {
      "text/plain": [
       "10"
      ]
     },
     "execution_count": 58,
     "metadata": {},
     "output_type": "execute_result"
    }
   ],
   "source": [
    "#Number of inactive users\n",
    "#10 inactive\n",
    "inactive_users = []\n",
    "for user in range(len(data)):    \n",
    "    if data[user]['isActive'] == False:\n",
    "        inactive_users.append(data[user]['name'])\n",
    "        \n",
    "print(inactive_users)\n",
    "len(inactive_users)\n"
   ]
  },
  {
   "cell_type": "code",
   "execution_count": 65,
   "metadata": {},
   "outputs": [
    {
     "data": {
      "text/plain": [
       "52667.02"
      ]
     },
     "execution_count": 65,
     "metadata": {},
     "output_type": "execute_result"
    }
   ],
   "source": [
    "#Grand total of balances for all users\n",
    "#52667.02\n",
    "grand_total = []\n",
    "for user in range(len(data)):    \n",
    "    grand_total.append(data[user]['balance'])\n",
    "    \n",
    "\n",
    "def string_to_float(x):\n",
    "    return float(x.replace(',','').replace('$',''))\n",
    "\n",
    "grand_total = [string_to_float(balance) for balance in grand_total]\n",
    "\n",
    "sum(grand_total)"
   ]
  },
  {
   "cell_type": "code",
   "execution_count": 84,
   "metadata": {},
   "outputs": [
    {
     "data": {
      "text/plain": [
       "2771.95"
      ]
     },
     "execution_count": 84,
     "metadata": {},
     "output_type": "execute_result"
    }
   ],
   "source": [
    "#Average balance per user\n",
    "#2771.95\n",
    "average_balance = round(sum(grand_total)/len(data),2)\n",
    "average_balance"
   ]
  },
  {
   "cell_type": "code",
   "execution_count": 83,
   "metadata": {},
   "outputs": [
    {
     "name": "stdout",
     "output_type": "stream",
     "text": [
      "1214.1\n"
     ]
    },
    {
     "data": {
      "text/plain": [
       "['$1,214.10 Avery Flynn']"
      ]
     },
     "execution_count": 83,
     "metadata": {},
     "output_type": "execute_result"
    }
   ],
   "source": [
    "#User with the lowest balance\n",
    "#$1,214.10 Avery Flynn\n",
    "print(min(grand_total))\n",
    "\n",
    "[user['balance'] +' '+ user['name'] for user in data if user['balance'] == '$1,214.10']"
   ]
  },
  {
   "cell_type": "code",
   "execution_count": 89,
   "metadata": {},
   "outputs": [
    {
     "name": "stdout",
     "output_type": "stream",
     "text": [
      "3919.64\n"
     ]
    },
    {
     "data": {
      "text/plain": [
       "['$3,919.64 Fay Hammond']"
      ]
     },
     "execution_count": 89,
     "metadata": {},
     "output_type": "execute_result"
    }
   ],
   "source": [
    "#User with the highest balance\n",
    "#$3,919.64 Fay Hammond\n",
    "\n",
    "print(max(grand_total))\n",
    "\n",
    "[user['balance'] +' '+ user['name'] for user in data if user['balance'] == '$3,919.64']"
   ]
  },
  {
   "cell_type": "code",
   "execution_count": 91,
   "metadata": {},
   "outputs": [
    {
     "data": {
      "text/plain": [
       "'strawberry'"
      ]
     },
     "execution_count": 91,
     "metadata": {},
     "output_type": "execute_result"
    }
   ],
   "source": [
    "#Most common favorite fruit\n",
    "#Strawberry\n",
    "fav_fruit = [user['favoriteFruit'] for user in data]\n",
    "fav_fruit\n",
    "\n",
    "import statistics\n",
    "statistics.mode(fav_fruit)"
   ]
  },
  {
   "cell_type": "code",
   "execution_count": 106,
   "metadata": {},
   "outputs": [
    {
     "name": "stdout",
     "output_type": "stream",
     "text": [
      "['apple', 'apple', 'apple', 'apple', 'banana', 'banana', 'banana', 'banana', 'banana', 'banana', 'strawberry', 'strawberry', 'strawberry', 'strawberry', 'strawberry', 'strawberry', 'strawberry', 'strawberry', 'strawberry']\n",
      "\n",
      "There are 4 users with favorite Apples\n",
      "There are 6 users with favorite Banana\n",
      "There are 9 users with favorite Strawberry\n"
     ]
    }
   ],
   "source": [
    "#Least most common favorite fruit\n",
    "#Apples with 4\n",
    "print(sorted(fav_fruit))\n",
    "print()\n",
    "\n",
    "print('There are', fav_fruit.count('apple'), 'users with favorite Apples')\n",
    "print('There are', fav_fruit.count('banana'), 'users with favorite Banana')\n",
    "print('There are', fav_fruit.count('strawberry'), 'users with favorite Strawberry')"
   ]
  },
  {
   "cell_type": "code",
   "execution_count": 115,
   "metadata": {},
   "outputs": [
    {
     "name": "stdout",
     "output_type": "stream",
     "text": [
      "Total number of unread messages: 52\n"
     ]
    }
   ],
   "source": [
    "#Total number of unread messages for all users\n",
    "greeting = [user['greeting'] for user in data]\n",
    "#print(greeting)\n",
    "\n",
    "def extract_num(string):\n",
    "    for char in string:\n",
    "        if char.isdigit():\n",
    "            return int(char)\n",
    "        \n",
    "message_quantity_list = [extract_num(message) for message in greeting]\n",
    "print(f'Total number of unread messages: {sum(message_quantity_list)}')\n",
    "\n",
    "#I just realized that the function does not take into account numbers with more than 1 digit......"
   ]
  }
 ],
 "metadata": {
  "kernelspec": {
   "display_name": "Python 3",
   "language": "python",
   "name": "python3"
  },
  "language_info": {
   "codemirror_mode": {
    "name": "ipython",
    "version": 3
   },
   "file_extension": ".py",
   "mimetype": "text/x-python",
   "name": "python",
   "nbconvert_exporter": "python",
   "pygments_lexer": "ipython3",
   "version": "3.8.5"
  }
 },
 "nbformat": 4,
 "nbformat_minor": 4
}
