{
 "cells": [
  {
   "cell_type": "markdown",
   "metadata": {},
   "source": [
    "Exercises\n",
    "\n",
    "Create a file named function_exercises.py for this exercise.\n",
    "After creating each function specified below, write the necessary code in order to test your function."
   ]
  },
  {
   "cell_type": "code",
   "execution_count": 6,
   "metadata": {},
   "outputs": [
    {
     "data": {
      "text/plain": [
       "False"
      ]
     },
     "execution_count": 6,
     "metadata": {},
     "output_type": "execute_result"
    }
   ],
   "source": [
    "#1. Define a function named is_two. It should accept one input and return True\n",
    "# if the passed input is either the number or the string 2, False otherwise.\n",
    "\n",
    "def is_two(num):\n",
    "    return num == 2 or num == '2'\n",
    "\n",
    "is_two(4)"
   ]
  },
  {
   "cell_type": "code",
   "execution_count": 7,
   "metadata": {},
   "outputs": [
    {
     "data": {
      "text/plain": [
       "True"
      ]
     },
     "execution_count": 7,
     "metadata": {},
     "output_type": "execute_result"
    }
   ],
   "source": [
    "#2. Define a function named is_vowel. It should return True if the passed string is a vowel, False otherwise.\n",
    "\n",
    "vowels = ['a','e','i','o','u']\n",
    "\n",
    "def is_vowel(value):\n",
    "   \n",
    "    answer = False\n",
    "\n",
    "    if value.lower() in vowels:\n",
    "        answer = True\n",
    "    else:\n",
    "        answer = False\n",
    "    return answer\n",
    "\n",
    "is_vowel('a')\n"
   ]
  },
  {
   "cell_type": "code",
   "execution_count": 137,
   "metadata": {},
   "outputs": [
    {
     "data": {
      "text/plain": [
       "True"
      ]
     },
     "execution_count": 137,
     "metadata": {},
     "output_type": "execute_result"
    }
   ],
   "source": [
    "#3. Define a function named is_consonant. It should return True if the passed string is a consonant,\n",
    "# False otherwise. Use your is_vowel function to accomplish this.\n",
    "\n",
    "def is_consonant(value):\n",
    "   \n",
    "    return not is_vowel(value)\n",
    "\n",
    "is_consonant('p')\n"
   ]
  },
  {
   "cell_type": "code",
   "execution_count": 18,
   "metadata": {},
   "outputs": [
    {
     "data": {
      "text/plain": [
       "'Rum'"
      ]
     },
     "execution_count": 18,
     "metadata": {},
     "output_type": "execute_result"
    }
   ],
   "source": [
    "#4. Define a function that accepts a string that is a word. \n",
    "#The function should capitalize the first letter of the word if the word starts with a consonant.\n",
    "\n",
    "\n",
    "def cap_consonant(word):\n",
    "    if word[0] not in vowels:\n",
    "        word = word.capitalize()\n",
    "    return word\n",
    "\n",
    "cap_consonant('rum')"
   ]
  },
  {
   "cell_type": "code",
   "execution_count": 24,
   "metadata": {},
   "outputs": [
    {
     "data": {
      "text/plain": [
       "'$3.0'"
      ]
     },
     "execution_count": 24,
     "metadata": {},
     "output_type": "execute_result"
    }
   ],
   "source": [
    "#5. Define a function named calculate_tip. It should accept a tip percentage (a number between 0 and 1) \n",
    "# and the bill total, and return the amount to tip.\n",
    "\n",
    "def calculate_tip(total,percentage):\n",
    "    return f'${total * percentage}'\n",
    "\n",
    "calculate_tip(15.00,0.2)\n"
   ]
  },
  {
   "cell_type": "code",
   "execution_count": 26,
   "metadata": {},
   "outputs": [
    {
     "data": {
      "text/plain": [
       "18.0"
      ]
     },
     "execution_count": 26,
     "metadata": {},
     "output_type": "execute_result"
    }
   ],
   "source": [
    "#6. Define a function named apply_discount. It should accept a original price, and a discount percentage, \n",
    "# and return the price after the discount is applied.\n",
    "\n",
    "def apply_discount(price,discount):\n",
    "    price_with_discount = price - (price * discount)\n",
    "    return price_with_discount\n",
    "\n",
    "apply_discount(20.0,0.1)"
   ]
  },
  {
   "cell_type": "code",
   "execution_count": 30,
   "metadata": {},
   "outputs": [
    {
     "data": {
      "text/plain": [
       "1000000"
      ]
     },
     "execution_count": 30,
     "metadata": {},
     "output_type": "execute_result"
    }
   ],
   "source": [
    "#7. Define a function named handle_commas. It should accept a string that is a number that contains commas\n",
    "# in it as input, and return a number as output.\n",
    "\n",
    "def handle_commas(x):\n",
    "    return int(x.replace(',',''))\n",
    "\n",
    "handle_commas('1,000,000')\n"
   ]
  },
  {
   "cell_type": "code",
   "execution_count": 41,
   "metadata": {},
   "outputs": [
    {
     "data": {
      "text/plain": [
       "'B'"
      ]
     },
     "execution_count": 41,
     "metadata": {},
     "output_type": "execute_result"
    }
   ],
   "source": [
    "#8. Define a function named get_letter_grade. It should accept a number and return the letter grade\n",
    "# associated with that number (A-F).\n",
    "\n",
    "def get_letter_grade(number_grade):\n",
    "    if number_grade in range(90,101):\n",
    "        return 'A'\n",
    "    elif number_grade in range(80,90):\n",
    "        return 'B'\n",
    "    elif number_grade in range(70,80):\n",
    "        return 'C'\n",
    "    elif number_grade in range(60,70):\n",
    "        return 'D'\n",
    "    else:\n",
    "        return 'F'\n",
    "    \n",
    "get_letter_grade(88)\n"
   ]
  },
  {
   "cell_type": "code",
   "execution_count": 57,
   "metadata": {},
   "outputs": [
    {
     "data": {
      "text/plain": [
       "'dbyt'"
      ]
     },
     "execution_count": 57,
     "metadata": {},
     "output_type": "execute_result"
    }
   ],
   "source": [
    "#9. Define a function named remove_vowels that accepts a string and returns a string with all the vowels removed.\n",
    "\n",
    "def remove_vowels(word):\n",
    "    word = word.lower()\n",
    "    for letter in word:\n",
    "        if letter in vowels:\n",
    "            word = word.replace(letter, '')\n",
    "    return word\n",
    "\n",
    "remove_vowels('AdbEiyTo')"
   ]
  },
  {
   "cell_type": "code",
   "execution_count": 142,
   "metadata": {},
   "outputs": [
    {
     "data": {
      "text/plain": [
       "'ratatatata_pacifica_lolwut'"
      ]
     },
     "execution_count": 142,
     "metadata": {},
     "output_type": "execute_result"
    }
   ],
   "source": [
    "'''\n",
    "10. Define a function named normalize_name. It should accept a string and return a valid python identifier, that is:\n",
    "anything that is not a valid python identifier should be removed\n",
    "leading and trailing whitespace should be removed\n",
    "everything should be lowercase\n",
    "spaces should be replaced with underscores\n",
    "for example:\n",
    "Name will become name\n",
    "First Name will become first_name\n",
    "% Completed will become completed\n",
    "'''\n",
    "\n",
    "def normalize_name(name):\n",
    "    \n",
    "    # print('#1. new list: \\n',name)\n",
    "    name = [char for char in name if char.isalnum() or char == ' ']\n",
    "     # print('#2. join char:  \\n',name)\n",
    "    name = ''.join(name)\n",
    "   \n",
    "    return name.strip().lower().replace(' ','_')\n",
    "\n",
    "normalize_name('  % RATATA@$#&^TATA Pac(^#$ifica $@#$lolwut! ')\n"
   ]
  },
  {
   "cell_type": "code",
   "execution_count": 140,
   "metadata": {},
   "outputs": [
    {
     "data": {
      "text/plain": [
       "[1, 3, 6, 10]"
      ]
     },
     "execution_count": 140,
     "metadata": {},
     "output_type": "execute_result"
    }
   ],
   "source": [
    "'''\n",
    "11. Write a function named cumulative_sum that accepts a list of numbers and returns a \n",
    "list that is the cumulative sum of the numbers in the list.\n",
    "cumulative_sum([1, 1, 1]) returns [1, 2, 3]\n",
    "cumulative_sum([1, 2, 3, 4]) returns [1, 3, 6, 10]\n",
    "Additional Exercise\n",
    "'''\n",
    "\n",
    "def cumulative_sum(numlist):\n",
    "    cu_list = [] \n",
    "    length = len(numlist) \n",
    "    cu_list = [sum(numlist[0:x:1]) for x in range(0, length+1)] \n",
    "    return cu_list[1:]\n",
    "\n",
    "cumulative_sum([1,2,3,4])\n",
    "    \n"
   ]
  },
  {
   "cell_type": "code",
   "execution_count": 136,
   "metadata": {},
   "outputs": [
    {
     "name": "stdout",
     "output_type": "stream",
     "text": [
      "22:05\n"
     ]
    }
   ],
   "source": [
    "#Once you've completed the above exercises, follow the directions from \n",
    "#https://gist.github.com/zgulde/ec8ed80ad8216905cda83d5645c60886 in order to thouroughly comment your code to explain your code.\n",
    "\n",
    "#Bonus\n",
    "\n",
    "#1. Create a function named twelveto24. It should accept a string in the format 10:45am or 4:30pm and \n",
    "# return a string that is the representation of the time in a 24-hour format. \n",
    "\n",
    "def twelveto24(str1):\n",
    "    \n",
    "    # Checking if last two elements of time \n",
    "    # is AM and first two elements are 12 \n",
    "    if str1[-2:] == \"AM\" and str1[:2] == \"12\": \n",
    "        return \"00\" + str1[2:-2] \n",
    "          \n",
    "    # remove the AM     \n",
    "    elif str1[-2:] == \"AM\": \n",
    "        return str1[:-2] \n",
    "      \n",
    "    # Checking if last two elements of time \n",
    "    # is PM and first two elements are 12    \n",
    "    elif str1[-2:] == \"PM\" and str1[:2] == \"12\": \n",
    "        return str1[:-2] \n",
    "          \n",
    "    else: \n",
    "          \n",
    "        # add 12 to hours and remove PM \n",
    "        return str(int(str1[:2]) + 12) + str1[2:5] \n",
    "  \n",
    "        \n",
    "print(twelveto24(\"10:05PM\")) \n",
    "\n",
    "\n",
    "#Bonus write a function that does the opposite."
   ]
  },
  {
   "cell_type": "code",
   "execution_count": 130,
   "metadata": {},
   "outputs": [],
   "source": [
    "#2. Create a function named col_index. It should accept a spreadsheet column name,\n",
    "# and return the index number of the column.\n",
    "# - col_index('A') returns 1\n",
    "# - col_index('B') returns 2\n",
    "# - col_index('AA') returns 27\n",
    "\n",
    "\n",
    "\n"
   ]
  },
  {
   "cell_type": "code",
   "execution_count": null,
   "metadata": {},
   "outputs": [],
   "source": []
  }
 ],
 "metadata": {
  "kernelspec": {
   "display_name": "Python 3",
   "language": "python",
   "name": "python3"
  },
  "language_info": {
   "codemirror_mode": {
    "name": "ipython",
    "version": 3
   },
   "file_extension": ".py",
   "mimetype": "text/x-python",
   "name": "python",
   "nbconvert_exporter": "python",
   "pygments_lexer": "ipython3",
   "version": "3.8.5"
  }
 },
 "nbformat": 4,
 "nbformat_minor": 4
}
